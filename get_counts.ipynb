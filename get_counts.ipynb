{
 "cells": [
  {
   "cell_type": "code",
   "execution_count": 1,
   "id": "f5977c66-0a1f-48b7-ac78-83975efdf9dc",
   "metadata": {},
   "outputs": [],
   "source": [
    "import scanpy as sc\n",
    "import pandas as pd\n",
    "from optparse import OptionParser"
   ]
  },
  {
   "cell_type": "code",
   "execution_count": null,
   "id": "3b845e56-7cc7-4adf-97b3-be473748daab",
   "metadata": {},
   "outputs": [],
   "source": [
    "def prepare_options(parser):\n",
    "    \"\"\"Prepare options parser\n",
    "    \"\"\"\n",
    "    parser.add_option(\"-i\", \"--input\", dest=\"input_file\",\n",
    "                      help=\"Input FILE\", metavar=\"FILE\")\n",
    "    parser.add_option(\"-n\", \"--name\", dest=\"name\",\n",
    "                      help=\"filename\", metvar=\"FILENAME\")\n",
    "(options, args) = parser.parse_args()\n",
    "adata_path = options.input_file\n",
    "adata_name = options.name"
   ]
  },
  {
   "cell_type": "code",
   "execution_count": null,
   "id": "ad6f2ace-2902-4fbb-83dc-ec7faacb11fb",
   "metadata": {},
   "outputs": [],
   "source": [
    "ts_adata = sc.read_h5ad(adata_path)"
   ]
  },
  {
   "cell_type": "code",
   "execution_count": null,
   "id": "84fc0414-4a16-473b-bd17-e008a86ecc7d",
   "metadata": {},
   "outputs": [],
   "source": [
    "sc_ts_all_qc_df = sc.pp.calculate_qc_metrics(ts_adata)"
   ]
  },
  {
   "cell_type": "code",
   "execution_count": null,
   "id": "a963b6bc-bcda-44f3-8c1a-34312d6ca7cd",
   "metadata": {},
   "outputs": [],
   "source": [
    "var_qc_df =sc_ts_all_qc_df[1]"
   ]
  },
  {
   "cell_type": "code",
   "execution_count": null,
   "id": "ef6097e5-b472-4f83-a106-b537a5d37a9b",
   "metadata": {},
   "outputs": [],
   "source": [
    "obs_qc_df = sc_ts_all_qc_df[0]"
   ]
  },
  {
   "cell_type": "code",
   "execution_count": null,
   "id": "ea89ae63-d56b-41dc-9297-2262b77069e0",
   "metadata": {},
   "outputs": [],
   "source": [
    "obs_qc_df[\"supercluster_term\"] = ts_adata.obs[\"supercluster_term\"]"
   ]
  },
  {
   "cell_type": "code",
   "execution_count": null,
   "id": "55905bfb-8603-4662-af8f-4ea754733168",
   "metadata": {},
   "outputs": [],
   "source": [
    "obs_qc_df.to_csv(\"../\" + adata_name + \"_obs_qc.csv\")"
   ]
  },
  {
   "cell_type": "code",
   "execution_count": null,
   "id": "d19e40a7-10a7-475f-a642-07701d888d06",
   "metadata": {},
   "outputs": [],
   "source": [
    "var_qc_df[\"gene_id\"] = ts_adata.var['feature_name']"
   ]
  },
  {
   "cell_type": "code",
   "execution_count": null,
   "id": "ff45c256-2042-4da7-9b46-d368968d8a59",
   "metadata": {},
   "outputs": [],
   "source": [
    "var_qc_df.to_csv(\"../\" + adata_name + \"ts_all_var_qc.csv\")"
   ]
  },
  {
   "cell_type": "code",
   "execution_count": null,
   "id": "6a1a9e56-8137-4a36-befb-1dea65139dac",
   "metadata": {},
   "outputs": [],
   "source": [
    "n_genes_df = ts_adata.obs[['total_genes', 'supercluster_term']]"
   ]
  },
  {
   "cell_type": "code",
   "execution_count": null,
   "id": "eab9a05f-e780-4413-8a95-dabad6888165",
   "metadata": {},
   "outputs": [],
   "source": [
    "total_genes_by_cell_type = n_genes_df.groupby('cell_type').mean().T.sort_values('total_genes', axis=1, ascending=False)"
   ]
  },
  {
   "cell_type": "code",
   "execution_count": null,
   "id": "1b760249-b01e-4a2f-9ca5-6dee213791bf",
   "metadata": {},
   "outputs": [],
   "source": [
    "total_genes_by_cell_type.to_csv(\"../\" + adata_name + \"ts_all_tot_genes_by_cell_type.csv\")"
   ]
  }
 ],
 "metadata": {
  "kernelspec": {
   "display_name": "Python 3 (ipykernel)",
   "language": "python",
   "name": "python3"
  },
  "language_info": {
   "codemirror_mode": {
    "name": "ipython",
    "version": 3
   },
   "file_extension": ".py",
   "mimetype": "text/x-python",
   "name": "python",
   "nbconvert_exporter": "python",
   "pygments_lexer": "ipython3",
   "version": "3.10.12"
  }
 },
 "nbformat": 4,
 "nbformat_minor": 5
}
