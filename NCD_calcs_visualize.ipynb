{
 "cells": [
  {
   "cell_type": "code",
   "execution_count": 8,
   "id": "99b37408-e826-4292-8cb7-aaf95bd9aff1",
   "metadata": {},
   "outputs": [],
   "source": [
    "import matplotlib.pyplot as plt\n",
    "import numpy as np\n",
    "import scanpy as sc\n",
    "import pandas as pd"
   ]
  },
  {
   "cell_type": "code",
   "execution_count": 9,
   "id": "11a87f8a-efdd-41fa-b113-0a7e0de75ef3",
   "metadata": {},
   "outputs": [],
   "source": [
    "test_csv = \"/home/shawn/Programming/neuron_rna_info_paper/data/ncd_calcs/splatter_50010X384_7:AGCGTCGTCGGCCAAC.fa_ncd_calc.csv\""
   ]
  },
  {
   "cell_type": "code",
   "execution_count": 11,
   "id": "dfb23261-c6b3-4b42-b473-881a7d861ce1",
   "metadata": {},
   "outputs": [],
   "source": [
    "df = pd.read_csv(test_csv)"
   ]
  },
  {
   "cell_type": "code",
   "execution_count": 31,
   "id": "f698320c-7979-462f-86ed-9ffc3d897ccd",
   "metadata": {},
   "outputs": [
    {
     "data": {
      "text/plain": [
       "0     0.999944\n",
       "1     0.999917\n",
       "2     0.999911\n",
       "3     0.999934\n",
       "4     0.999966\n",
       "5     0.999957\n",
       "6     0.999942\n",
       "7     0.999948\n",
       "8     0.999963\n",
       "9     0.999934\n",
       "10    0.999887\n",
       "11    0.999952\n",
       "12    0.999972\n",
       "13    0.999910\n",
       "14    0.999914\n",
       "15    0.999922\n",
       "16    0.999941\n",
       "17    0.999927\n",
       "18    0.999927\n",
       "19    0.999901\n",
       "20    0.999973\n",
       "21    0.999908\n",
       "22    0.999912\n",
       "23    0.999955\n",
       "24    0.999930\n",
       "25    0.999914\n",
       "26    0.999898\n",
       "27    0.999937\n",
       "28    0.999915\n",
       "29    0.999925\n",
       "30    0.999906\n",
       "31    0.999913\n",
       "32    0.999887\n",
       "33    0.999892\n",
       "34    0.999915\n",
       "35    0.999938\n",
       "36    0.999905\n",
       "37    0.999930\n",
       "38    0.999883\n",
       "39    0.999964\n",
       "40    0.999909\n",
       "41    0.999897\n",
       "42    0.999970\n",
       "43    0.999930\n",
       "44    0.999935\n",
       "45    0.999932\n",
       "46    0.999878\n",
       "47    0.999954\n",
       "48    0.999938\n",
       "49    0.999917\n",
       "Name: 0, dtype: float64"
      ]
     },
     "execution_count": 31,
     "metadata": {},
     "output_type": "execute_result"
    }
   ],
   "source": [
    "df['0']"
   ]
  },
  {
   "cell_type": "code",
   "execution_count": 32,
   "id": "5fed78ae-e391-4bc8-b016-bb22634a9a21",
   "metadata": {},
   "outputs": [
    {
     "data": {
      "text/plain": [
       "0      0\n",
       "1      1\n",
       "2      2\n",
       "3      3\n",
       "4      4\n",
       "5      5\n",
       "6      6\n",
       "7      7\n",
       "8      8\n",
       "9      9\n",
       "10    10\n",
       "11    11\n",
       "12    12\n",
       "13    13\n",
       "14    14\n",
       "15    15\n",
       "16    16\n",
       "17    17\n",
       "18    18\n",
       "19    19\n",
       "20    20\n",
       "21    21\n",
       "22    22\n",
       "23    23\n",
       "24    24\n",
       "25    25\n",
       "26    26\n",
       "27    27\n",
       "28    28\n",
       "29    29\n",
       "30    30\n",
       "31    31\n",
       "32    32\n",
       "33    33\n",
       "34    34\n",
       "35    35\n",
       "36    36\n",
       "37    37\n",
       "38    38\n",
       "39    39\n",
       "40    40\n",
       "41    41\n",
       "42    42\n",
       "43    43\n",
       "44    44\n",
       "45    45\n",
       "46    46\n",
       "47    47\n",
       "48    48\n",
       "49    49\n",
       "Name: Unnamed: 0, dtype: int64"
      ]
     },
     "execution_count": 32,
     "metadata": {},
     "output_type": "execute_result"
    }
   ],
   "source": [
    "df['Unnamed: 0']"
   ]
  },
  {
   "cell_type": "code",
   "execution_count": null,
   "id": "932d23ff-c724-4d92-a5e2-1b867960e9a4",
   "metadata": {},
   "outputs": [],
   "source": []
  }
 ],
 "metadata": {
  "kernelspec": {
   "display_name": "Python 3 (ipykernel)",
   "language": "python",
   "name": "python3"
  },
  "language_info": {
   "codemirror_mode": {
    "name": "ipython",
    "version": 3
   },
   "file_extension": ".py",
   "mimetype": "text/x-python",
   "name": "python",
   "nbconvert_exporter": "python",
   "pygments_lexer": "ipython3",
   "version": "3.10.12"
  }
 },
 "nbformat": 4,
 "nbformat_minor": 5
}
