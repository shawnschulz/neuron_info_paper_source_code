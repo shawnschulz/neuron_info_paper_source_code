{
 "cells": [
  {
   "cell_type": "code",
   "execution_count": 22,
   "id": "e6d2d13a-9605-4d40-ad21-cd6738c7df94",
   "metadata": {},
   "outputs": [],
   "source": [
    "import scanpy as sc "
   ]
  },
  {
   "cell_type": "code",
   "execution_count": 8,
   "id": "fa9cd0d2-530f-4006-989b-708176ade89c",
   "metadata": {},
   "outputs": [],
   "source": [
    "import os"
   ]
  },
  {
   "cell_type": "code",
   "execution_count": 28,
   "id": "92676a5c-f221-4b94-acdf-2503a197f0cd",
   "metadata": {},
   "outputs": [],
   "source": [
    "import numpy as np\n",
    "import pandas as pd"
   ]
  },
  {
   "cell_type": "code",
   "execution_count": 37,
   "id": "598f9f4a-6803-44bf-9b11-d3fd14156211",
   "metadata": {},
   "outputs": [],
   "source": [
    "from Bio import Entrez\n",
    "from Bio import SeqIO"
   ]
  },
  {
   "cell_type": "code",
   "execution_count": 6,
   "id": "e1b06fdd-144c-4b5c-8137-8eb168bd71f1",
   "metadata": {},
   "outputs": [
    {
     "data": {
      "text/plain": [
       "'/home/shawn/Programming/neuron_rna_info_paper/src'"
      ]
     },
     "execution_count": 6,
     "metadata": {},
     "output_type": "execute_result"
    }
   ],
   "source": [
    "os.getcwd()"
   ]
  },
  {
   "cell_type": "code",
   "execution_count": 69,
   "id": "303f79de-0545-4dc1-b4e7-a6b778ab571b",
   "metadata": {},
   "outputs": [
    {
     "data": {
      "text/plain": [
       "AnnData object with n_obs × n_vars = 5882 × 59357\n",
       "    obs: 'roi', 'organism_ontology_term_id', 'disease_ontology_term_id', 'self_reported_ethnicity_ontology_term_id', 'assay_ontology_term_id', 'sex_ontology_term_id', 'development_stage_ontology_term_id', 'donor_id', 'suspension_type', 'dissection', 'fraction_mitochondrial', 'fraction_unspliced', 'cell_cycle_score', 'total_genes', 'total_UMIs', 'sample_id', 'supercluster_term', 'cluster_id', 'subcluster_id', 'cell_type_ontology_term_id', 'tissue_ontology_term_id', 'is_primary_data', 'cell_type', 'assay', 'disease', 'organism', 'sex', 'tissue', 'self_reported_ethnicity', 'development_stage'\n",
       "    var: 'Biotype', 'Chromosome', 'End', 'Gene', 'Start', 'feature_is_filtered', 'feature_name', 'feature_reference', 'feature_biotype'\n",
       "    uns: 'batch_condition', 'schema_version', 'title'\n",
       "    obsm: 'X_UMAP', 'X_tSNE'"
      ]
     },
     "execution_count": 69,
     "metadata": {},
     "output_type": "execute_result"
    }
   ],
   "source": [
    "test_adata = sc.read_h5ad(\"sc_ependymal.h5ad\")"
   ]
  },
  {
   "cell_type": "code",
   "execution_count": 79,
   "id": "490f251f-5d42-4053-9a61-2036d83ad371",
   "metadata": {},
   "outputs": [
    {
     "data": {
      "text/plain": [
       "'Ependymal'"
      ]
     },
     "execution_count": 79,
     "metadata": {},
     "output_type": "execute_result"
    }
   ],
   "source": [
    "test_adata.obs['supercluster_term']['10X391_2:GACGTTATCTAATTCC']"
   ]
  },
  {
   "cell_type": "code",
   "execution_count": 81,
   "id": "623f0bd7-8d7c-4ab8-82ee-91b6674d4e35",
   "metadata": {},
   "outputs": [
    {
     "data": {
      "text/plain": [
       "Index(['ENSG00000041982', 'ENSG00000137486', 'ENSG00000134508',\n",
       "       'ENSG00000140538', 'ENSG00000136297', 'ENSG00000164089',\n",
       "       'ENSG00000138639', 'ENSG00000182177', 'ENSG00000221932',\n",
       "       'ENSG00000249776',\n",
       "       ...\n",
       "       'ENSG00000226328', 'ENSG00000100344', 'ENSG00000271026',\n",
       "       'ENSG00000271028', 'ENSG00000127863', 'ENSG00000127616',\n",
       "       'ENSG00000127564', 'ENSG00000197046', 'ENSG00000280660',\n",
       "       'ENSG00000138083'],\n",
       "      dtype='object', name='ensembl_ids', length=59357)"
      ]
     },
     "execution_count": 81,
     "metadata": {},
     "output_type": "execute_result"
    }
   ],
   "source": [
    "test_adata.var_names"
   ]
  },
  {
   "cell_type": "code",
   "execution_count": 84,
   "id": "54229e99-b23e-48c2-9d66-89b811c6e5ba",
   "metadata": {},
   "outputs": [
    {
     "data": {
      "text/plain": [
       "'ENSG00000041982'"
      ]
     },
     "execution_count": 84,
     "metadata": {},
     "output_type": "execute_result"
    }
   ],
   "source": [
    "test_adata.var_names[0]"
   ]
  },
  {
   "cell_type": "code",
   "execution_count": 85,
   "id": "b23e35dd-e003-42f4-91c8-06a7b918b3d8",
   "metadata": {},
   "outputs": [],
   "source": [
    "os.chdir(\"../data\")"
   ]
  },
  {
   "cell_type": "code",
   "execution_count": 90,
   "id": "f5a0b8e1-f6b8-402a-a048-81820e78be3d",
   "metadata": {},
   "outputs": [
    {
     "data": {
      "text/plain": [
       "Index(['roi', 'organism_ontology_term_id', 'disease_ontology_term_id',\n",
       "       'self_reported_ethnicity_ontology_term_id', 'assay_ontology_term_id',\n",
       "       'sex_ontology_term_id', 'development_stage_ontology_term_id',\n",
       "       'donor_id', 'suspension_type', 'dissection', 'fraction_mitochondrial',\n",
       "       'fraction_unspliced', 'cell_cycle_score', 'total_genes', 'total_UMIs',\n",
       "       'sample_id', 'supercluster_term', 'cluster_id', 'subcluster_id',\n",
       "       'cell_type_ontology_term_id', 'tissue_ontology_term_id',\n",
       "       'is_primary_data', 'cell_type', 'assay', 'disease', 'organism', 'sex',\n",
       "       'tissue', 'self_reported_ethnicity', 'development_stage'],\n",
       "      dtype='object')"
      ]
     },
     "execution_count": 90,
     "metadata": {},
     "output_type": "execute_result"
    }
   ],
   "source": [
    "test_adata.obs.columns"
   ]
  },
  {
   "cell_type": "code",
   "execution_count": null,
   "id": "42f7f500-2369-42a9-a198-66de6be0c63c",
   "metadata": {},
   "outputs": [],
   "source": [
    "counter = 0\n",
    "for cell_index in range(0, len(test_adata.obs_names)):\n",
    "    if counter == 0:\n",
    "        cell_name = test_adata.obs_names[cell_index]\n",
    "        super_cluster_term = test_adata.obs['supercluster_term'][cell_name]\n",
    "        fasta_fn =  super_cluster_term + '_' + cell_name + '.fa'\n",
    "        with open(fasta_fn, 'w') as f:\n",
    "            f.write(\"\")\n",
    "        for gene_index in range(0, len(test_adata.var_names)):\n",
    "            os.system(\"grep -A1 {gene_index} ../data/ensembl_annotated_transcriptome.fa | grep -v {gene_index} >> {fasta_fn}\")\n",
    "    counter += 1"
   ]
  },
  {
   "cell_type": "code",
   "execution_count": 71,
   "id": "a2a4deb6-fa74-4c51-b24a-70e0df1c7158",
   "metadata": {},
   "outputs": [
    {
     "data": {
      "text/plain": [
       "array([  0.,   1.,   2.,   3.,   4.,   5.,   6.,   7.,   8.,   9.,  10.,\n",
       "        11.,  12.,  13.,  14.,  15.,  16.,  17.,  18.,  19.,  20.,  21.,\n",
       "        22.,  25.,  27.,  29.,  33.,  35.,  36.,  37.,  46.,  52., 122.,\n",
       "       569.], dtype=float32)"
      ]
     },
     "execution_count": 71,
     "metadata": {},
     "output_type": "execute_result"
    }
   ],
   "source": [
    "np.unique(np.array(test_adata.X[:1].todense()))"
   ]
  },
  {
   "cell_type": "code",
   "execution_count": 52,
   "id": "f32c5a8e-c481-40c0-af3a-57afe530d4cf",
   "metadata": {},
   "outputs": [
    {
     "name": "stdout",
     "output_type": "stream",
     "text": [
      "AGAGGCGGAGCCGCTGTGGCACTGCTGCGCCTCTGCTGCGCCTCGGGTGTCTTTTGCGGC\n"
     ]
    }
   ],
   "source": [
    "test = os.system(\"grep -A1 ENST00000666593.2 ../data/ensembl_annotated_transcriptome.fa | grep -v ENST00000666593.2\")"
   ]
  },
  {
   "cell_type": "code",
   "execution_count": null,
   "id": "cf8c1d58-4512-4cd1-88bd-f4e6c58dafea",
   "metadata": {},
   "outputs": [],
   "source": []
  }
 ],
 "metadata": {
  "kernelspec": {
   "display_name": "Python 3 (ipykernel)",
   "language": "python",
   "name": "python3"
  },
  "language_info": {
   "codemirror_mode": {
    "name": "ipython",
    "version": 3
   },
   "file_extension": ".py",
   "mimetype": "text/x-python",
   "name": "python",
   "nbconvert_exporter": "python",
   "pygments_lexer": "ipython3",
   "version": "3.10.12"
  }
 },
 "nbformat": 4,
 "nbformat_minor": 5
}
