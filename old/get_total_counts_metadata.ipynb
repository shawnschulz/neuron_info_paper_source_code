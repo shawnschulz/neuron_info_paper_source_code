{
 "cells": [
  {
   "cell_type": "code",
   "execution_count": 3,
   "id": "f5977c66-0a1f-48b7-ac78-83975efdf9dc",
   "metadata": {},
   "outputs": [],
   "source": [
    "import scanpy as sc\n",
    "import pandas as pd"
   ]
  },
  {
   "cell_type": "code",
   "execution_count": 1,
   "id": "be7ae02e-770e-4698-947c-067acec66b83",
   "metadata": {},
   "outputs": [
    {
     "name": "stdout",
     "output_type": "stream",
     "text": [
      "Defaulting to user installation because normal site-packages is not writeable\n",
      "Collecting scanpy\n",
      "  Using cached scanpy-1.9.5-py3-none-any.whl (2.0 MB)\n",
      "Requirement already satisfied: tqdm in /home/shawn/.local/lib/python3.10/site-packages (from scanpy) (4.65.0)\n",
      "Collecting patsy\n",
      "  Using cached patsy-0.5.3-py2.py3-none-any.whl (233 kB)\n",
      "Requirement already satisfied: joblib in /home/shawn/.local/lib/python3.10/site-packages (from scanpy) (1.2.0)\n",
      "Collecting h5py>=3\n",
      "  Using cached h5py-3.10.0-cp310-cp310-manylinux_2_17_x86_64.manylinux2014_x86_64.whl (4.8 MB)\n",
      "Collecting anndata>=0.7.4\n",
      "  Using cached anndata-0.10.2-py3-none-any.whl (118 kB)\n",
      "Requirement already satisfied: scikit-learn>=0.24 in /home/shawn/.local/lib/python3.10/site-packages (from scanpy) (1.2.2)\n",
      "Collecting numba>=0.41.0\n",
      "  Using cached numba-0.58.1-cp310-cp310-manylinux2014_x86_64.manylinux_2_17_x86_64.whl (3.6 MB)\n",
      "Collecting statsmodels>=0.10.0rc2\n",
      "  Using cached statsmodels-0.14.0-cp310-cp310-manylinux_2_17_x86_64.manylinux2014_x86_64.whl (10.1 MB)\n",
      "Requirement already satisfied: numpy>=1.17.0 in /home/shawn/.local/lib/python3.10/site-packages (from scanpy) (1.24.0)\n",
      "Requirement already satisfied: scipy>=1.4 in /home/shawn/.local/lib/python3.10/site-packages (from scanpy) (1.10.1)\n",
      "Collecting seaborn\n",
      "  Using cached seaborn-0.13.0-py3-none-any.whl (294 kB)\n",
      "Collecting natsort\n",
      "  Using cached natsort-8.4.0-py3-none-any.whl (38 kB)\n",
      "Collecting session-info\n",
      "  Using cached session_info-1.0.0.tar.gz (24 kB)\n",
      "  Preparing metadata (setup.py) ... \u001b[?25ldone\n",
      "\u001b[?25hRequirement already satisfied: pandas>=1.0 in /home/shawn/.local/lib/python3.10/site-packages (from scanpy) (2.0.0)\n",
      "Collecting umap-learn>=0.3.10\n",
      "  Using cached umap-learn-0.5.4.tar.gz (90 kB)\n",
      "  Preparing metadata (setup.py) ... \u001b[?25ldone\n",
      "\u001b[?25hRequirement already satisfied: packaging in /home/shawn/.local/lib/python3.10/site-packages (from scanpy) (23.0)\n",
      "Requirement already satisfied: matplotlib>=3.4 in /home/shawn/.local/lib/python3.10/site-packages (from scanpy) (3.7.1)\n",
      "Requirement already satisfied: networkx>=2.3 in /home/shawn/.local/lib/python3.10/site-packages (from scanpy) (3.0)\n",
      "Collecting array-api-compat\n",
      "  Using cached array_api_compat-1.4-py3-none-any.whl (29 kB)\n",
      "Collecting exceptiongroup\n",
      "  Using cached exceptiongroup-1.1.3-py3-none-any.whl (14 kB)\n",
      "Requirement already satisfied: fonttools>=4.22.0 in /home/shawn/.local/lib/python3.10/site-packages (from matplotlib>=3.4->scanpy) (4.39.3)\n",
      "Requirement already satisfied: contourpy>=1.0.1 in /home/shawn/.local/lib/python3.10/site-packages (from matplotlib>=3.4->scanpy) (1.0.7)\n",
      "Requirement already satisfied: kiwisolver>=1.0.1 in /home/shawn/.local/lib/python3.10/site-packages (from matplotlib>=3.4->scanpy) (1.4.4)\n",
      "Requirement already satisfied: pillow>=6.2.0 in /usr/lib/python3/dist-packages (from matplotlib>=3.4->scanpy) (9.0.1)\n",
      "Requirement already satisfied: python-dateutil>=2.7 in /home/shawn/.local/lib/python3.10/site-packages (from matplotlib>=3.4->scanpy) (2.8.2)\n",
      "Requirement already satisfied: pyparsing>=2.3.1 in /usr/lib/python3/dist-packages (from matplotlib>=3.4->scanpy) (2.4.7)\n",
      "Requirement already satisfied: cycler>=0.10 in /home/shawn/.local/lib/python3.10/site-packages (from matplotlib>=3.4->scanpy) (0.11.0)\n",
      "Collecting llvmlite<0.42,>=0.41.0dev0\n",
      "  Using cached llvmlite-0.41.1-cp310-cp310-manylinux_2_17_x86_64.manylinux2014_x86_64.whl (43.6 MB)\n",
      "Requirement already satisfied: pytz>=2020.1 in /usr/lib/python3/dist-packages (from pandas>=1.0->scanpy) (2022.1)\n",
      "Requirement already satisfied: tzdata>=2022.1 in /home/shawn/.local/lib/python3.10/site-packages (from pandas>=1.0->scanpy) (2023.3)\n",
      "Requirement already satisfied: threadpoolctl>=2.0.0 in /home/shawn/.local/lib/python3.10/site-packages (from scikit-learn>=0.24->scanpy) (3.1.0)\n",
      "Requirement already satisfied: six in /usr/lib/python3/dist-packages (from patsy->scanpy) (1.16.0)\n",
      "Collecting pynndescent>=0.5\n",
      "  Using cached pynndescent-0.5.10.tar.gz (1.1 MB)\n",
      "  Preparing metadata (setup.py) ... \u001b[?25ldone\n",
      "\u001b[?25hCollecting tbb>=2019.0\n",
      "  Using cached tbb-2021.10.0-py2.py3-none-manylinux1_x86_64.whl (4.4 MB)\n",
      "Collecting numpy>=1.17.0\n",
      "  Using cached numpy-1.26.1-cp310-cp310-manylinux_2_17_x86_64.manylinux2014_x86_64.whl (18.2 MB)\n",
      "Collecting stdlib_list\n",
      "  Using cached stdlib_list-0.9.0-py3-none-any.whl (75 kB)\n",
      "Building wheels for collected packages: umap-learn, session-info, pynndescent\n",
      "  Building wheel for umap-learn (setup.py) ... \u001b[?25ldone\n",
      "\u001b[?25h  Created wheel for umap-learn: filename=umap_learn-0.5.4-py3-none-any.whl size=86793 sha256=7b2e64eba5cabda6c990daf434c1fe28036c19add90d91be6d6eed09175d8bab\n",
      "  Stored in directory: /home/shawn/.cache/pip/wheels/fb/66/29/199acf5784d0f7b8add6d466175ab45506c96e386ed5dd0633\n",
      "  Building wheel for session-info (setup.py) ... \u001b[?25ldone\n",
      "\u001b[?25h  Created wheel for session-info: filename=session_info-1.0.0-py3-none-any.whl size=8048 sha256=32284a67e8e048e9debeca2d6e19d6077256519dbd56e34af49a54c2b26eb731\n",
      "  Stored in directory: /home/shawn/.cache/pip/wheels/6a/aa/b9/eb5d4031476ec10802795b97ccf937b9bd998d68a9b268765a\n",
      "  Building wheel for pynndescent (setup.py) ... \u001b[?25ldone\n",
      "\u001b[?25h  Created wheel for pynndescent: filename=pynndescent-0.5.10-py3-none-any.whl size=55636 sha256=6c2b662220d8a1dd589f521ce24b286b387abb2c438d9657576cbeaa9e57a34a\n",
      "  Stored in directory: /home/shawn/.cache/pip/wheels/4a/38/5d/f60a40a66a9512b7e5e83517ebc2d1b42d857be97d135f1096\n",
      "Successfully built umap-learn session-info pynndescent\n",
      "Installing collected packages: tbb, stdlib_list, numpy, natsort, llvmlite, exceptiongroup, array-api-compat, session-info, patsy, numba, h5py, statsmodels, anndata, seaborn, pynndescent, umap-learn, scanpy\n",
      "  Attempting uninstall: numpy\n",
      "    Found existing installation: numpy 1.24.0\n",
      "    Uninstalling numpy-1.24.0:\n",
      "      Successfully uninstalled numpy-1.24.0\n",
      "Successfully installed anndata-0.10.2 array-api-compat-1.4 exceptiongroup-1.1.3 h5py-3.10.0 llvmlite-0.41.1 natsort-8.4.0 numba-0.58.1 numpy-1.26.1 patsy-0.5.3 pynndescent-0.5.10 scanpy-1.9.5 seaborn-0.13.0 session-info-1.0.0 statsmodels-0.14.0 stdlib_list-0.9.0 tbb-2021.10.0 umap-learn-0.5.4\n"
     ]
    }
   ],
   "source": [
    "!pip install scanpy"
   ]
  },
  {
   "cell_type": "code",
   "execution_count": null,
   "id": "a3ffae94-9a54-4722-aad0-d0db333a4c48",
   "metadata": {},
   "outputs": [],
   "source": [
    "!pip install biomart"
   ]
  },
  {
   "cell_type": "code",
   "execution_count": null,
   "id": "78b02022-3478-4411-a9ce-b1e8aff64db0",
   "metadata": {},
   "outputs": [],
   "source": [
    "#!pip freeze > ./requirements.txt"
   ]
  },
  {
   "cell_type": "markdown",
   "id": "d11efdc2-8a10-4eb8-8ee0-c1e8e6c4f681",
   "metadata": {},
   "source": [
    "TS all data"
   ]
  },
  {
   "cell_type": "code",
   "execution_count": null,
   "id": "ad6f2ace-2902-4fbb-83dc-ec7faacb11fb",
   "metadata": {},
   "outputs": [],
   "source": [
    "ts_adata = sc.read_h5ad(\"/home/shawn/Programming/neuron_rna_info_paper/data/TabulaSapiens.h5ad\")"
   ]
  },
  {
   "cell_type": "code",
   "execution_count": null,
   "id": "6a760406-a114-432c-a6ec-6e6b2d9b4c83",
   "metadata": {},
   "outputs": [],
   "source": [
    "ts_adata"
   ]
  },
  {
   "cell_type": "code",
   "execution_count": null,
   "id": "84fc0414-4a16-473b-bd17-e008a86ecc7d",
   "metadata": {},
   "outputs": [],
   "source": [
    "sc_ts_all_qc_df = sc.pp.calculate_qc_metrics(ts_adata)"
   ]
  },
  {
   "cell_type": "code",
   "execution_count": null,
   "id": "15192dee-11fc-4fc8-b7ee-b3f6a1a561c0",
   "metadata": {},
   "outputs": [],
   "source": [
    "ts_adata.obs"
   ]
  },
  {
   "cell_type": "code",
   "execution_count": null,
   "id": "4bc29aec-733e-470a-b7d9-92ff78a7417a",
   "metadata": {},
   "outputs": [],
   "source": [
    "ts_adata.var"
   ]
  },
  {
   "cell_type": "code",
   "execution_count": null,
   "id": "a963b6bc-bcda-44f3-8c1a-34312d6ca7cd",
   "metadata": {},
   "outputs": [],
   "source": [
    "var_qc_df =sc_ts_all_qc_df[1]"
   ]
  },
  {
   "cell_type": "code",
   "execution_count": null,
   "id": "ef6097e5-b472-4f83-a106-b537a5d37a9b",
   "metadata": {},
   "outputs": [],
   "source": [
    "obs_qc_df = sc_ts_all_qc_df[0]"
   ]
  },
  {
   "cell_type": "code",
   "execution_count": null,
   "id": "ea89ae63-d56b-41dc-9297-2262b77069e0",
   "metadata": {},
   "outputs": [],
   "source": [
    "obs_qc_df[\"free_annotation\"] = ts_adata.obs[\"free_annotation\"]"
   ]
  },
  {
   "cell_type": "code",
   "execution_count": null,
   "id": "55905bfb-8603-4662-af8f-4ea754733168",
   "metadata": {},
   "outputs": [],
   "source": [
    "obs_qc_df.to_csv(\"../ts_all_obs_qc.csv\")"
   ]
  },
  {
   "cell_type": "code",
   "execution_count": null,
   "id": "d19e40a7-10a7-475f-a642-07701d888d06",
   "metadata": {},
   "outputs": [],
   "source": [
    "var_qc_df[\"gene_id\"] = ts_adata.var['feature_name']"
   ]
  },
  {
   "cell_type": "code",
   "execution_count": null,
   "id": "622229f4-cc18-4af4-ae3d-261d29ea9a40",
   "metadata": {},
   "outputs": [],
   "source": [
    "var_qc_df[\"highly_variable\"] = ts_adata.var[\"highly_variable\"]"
   ]
  },
  {
   "cell_type": "code",
   "execution_count": null,
   "id": "ff45c256-2042-4da7-9b46-d368968d8a59",
   "metadata": {},
   "outputs": [],
   "source": [
    "var_qc_df.to_csv(\"../ts_all_var_qc.csv\")"
   ]
  },
  {
   "cell_type": "code",
   "execution_count": null,
   "id": "6a1a9e56-8137-4a36-befb-1dea65139dac",
   "metadata": {},
   "outputs": [],
   "source": [
    "n_genes_df = ts_adata.obs[['n_genes', 'cell_type']]"
   ]
  },
  {
   "cell_type": "code",
   "execution_count": null,
   "id": "eab9a05f-e780-4413-8a95-dabad6888165",
   "metadata": {},
   "outputs": [],
   "source": [
    "total_genes_by_cell_type = n_genes_df.groupby('cell_type').mean().T.sort_values('n_genes', axis=1, ascending=False)"
   ]
  },
  {
   "cell_type": "code",
   "execution_count": null,
   "id": "1b760249-b01e-4a2f-9ca5-6dee213791bf",
   "metadata": {},
   "outputs": [],
   "source": [
    "total_genes_by_cell_type.to_csv(\"../ts_all_tot_genes_by_cell_type.csv\")"
   ]
  },
  {
   "cell_type": "code",
   "execution_count": null,
   "id": "9fbd6672-26b3-4aae-958e-8d9dce6bc0b7",
   "metadata": {},
   "outputs": [],
   "source": [
    "total_genes_by_cell_type"
   ]
  },
  {
   "cell_type": "markdown",
   "id": "88a29528-92f6-4c73-9308-08451bfe149c",
   "metadata": {},
   "source": [
    "Brain Atlas"
   ]
  },
  {
   "cell_type": "code",
   "execution_count": 4,
   "id": "80c75f83-fac1-4dc5-b085-7cba9f3bb368",
   "metadata": {},
   "outputs": [],
   "source": [
    "brain_adata = sc.read_h5ad(\"/home/shawn/Programming/neuron_rna_info_paper/data/sc_hippocampal_dentate_gyrus.h5ad\")"
   ]
  },
  {
   "cell_type": "code",
   "execution_count": 17,
   "id": "aeb1d1c5-d0d4-463d-b888-f08a8312f787",
   "metadata": {},
   "outputs": [
    {
     "data": {
      "text/plain": [
       "Index(['roi', 'organism_ontology_term_id', 'disease_ontology_term_id',\n",
       "       'self_reported_ethnicity_ontology_term_id', 'assay_ontology_term_id',\n",
       "       'sex_ontology_term_id', 'development_stage_ontology_term_id',\n",
       "       'donor_id', 'suspension_type', 'dissection', 'fraction_mitochondrial',\n",
       "       'fraction_unspliced', 'cell_cycle_score', 'total_genes', 'total_UMIs',\n",
       "       'sample_id', 'supercluster_term', 'cluster_id', 'subcluster_id',\n",
       "       'cell_type_ontology_term_id', 'tissue_ontology_term_id',\n",
       "       'is_primary_data', 'cell_type', 'assay', 'disease', 'organism', 'sex',\n",
       "       'tissue', 'self_reported_ethnicity', 'development_stage'],\n",
       "      dtype='object')"
      ]
     },
     "execution_count": 17,
     "metadata": {},
     "output_type": "execute_result"
    }
   ],
   "source": [
    "brain_adata.obs.columns"
   ]
  },
  {
   "cell_type": "code",
   "execution_count": 25,
   "id": "29c7dfbf-6661-4a9a-b9e9-885216335f98",
   "metadata": {},
   "outputs": [
    {
     "data": {
      "text/plain": [
       "CellID\n",
       "10X388_6:CGTCCATCAGCGTGCT    Hippocampal dentate gyrus\n",
       "10X388_6:AAACGCTGTGAAAGTT    Hippocampal dentate gyrus\n",
       "10X388_6:GTCATTTTCACCCATC    Hippocampal dentate gyrus\n",
       "10X388_5:GCATCGGGTCGTAATC    Hippocampal dentate gyrus\n",
       "10X388_6:GATGATCTCACCACAA    Hippocampal dentate gyrus\n",
       "                                       ...            \n",
       "10X388_6:CACTGAAAGATACAGT    Hippocampal dentate gyrus\n",
       "10X393_4:GGCGTCATCACGGGCT    Hippocampal dentate gyrus\n",
       "10X393_4:GGAGCAATCCCTCATG    Hippocampal dentate gyrus\n",
       "10X388_6:AGGTTGTAGAGAACCC    Hippocampal dentate gyrus\n",
       "10X388_5:GATCGTACATATGCGT    Hippocampal dentate gyrus\n",
       "Name: supercluster_term, Length: 67533, dtype: category\n",
       "Categories (1, object): ['Hippocampal dentate gyrus']"
      ]
     },
     "execution_count": 25,
     "metadata": {},
     "output_type": "execute_result"
    }
   ],
   "source": [
    "brain_adata.obs['supercluster_term']"
   ]
  },
  {
   "cell_type": "code",
   "execution_count": 27,
   "id": "0eef6515-ba54-4e14-8dc2-bef9c6235200",
   "metadata": {},
   "outputs": [
    {
     "data": {
      "text/plain": [
       "AnnData object with n_obs × n_vars = 67533 × 59357\n",
       "    obs: 'roi', 'organism_ontology_term_id', 'disease_ontology_term_id', 'self_reported_ethnicity_ontology_term_id', 'assay_ontology_term_id', 'sex_ontology_term_id', 'development_stage_ontology_term_id', 'donor_id', 'suspension_type', 'dissection', 'fraction_mitochondrial', 'fraction_unspliced', 'cell_cycle_score', 'total_genes', 'total_UMIs', 'sample_id', 'supercluster_term', 'cluster_id', 'subcluster_id', 'cell_type_ontology_term_id', 'tissue_ontology_term_id', 'is_primary_data', 'cell_type', 'assay', 'disease', 'organism', 'sex', 'tissue', 'self_reported_ethnicity', 'development_stage'\n",
       "    var: 'Biotype', 'Chromosome', 'End', 'Gene', 'Start', 'feature_is_filtered', 'feature_name', 'feature_reference', 'feature_biotype'\n",
       "    uns: 'batch_condition', 'schema_version', 'title'\n",
       "    obsm: 'X_UMAP', 'X_tSNE'"
      ]
     },
     "execution_count": 27,
     "metadata": {},
     "output_type": "execute_result"
    }
   ],
   "source": [
    "brain_adata"
   ]
  },
  {
   "cell_type": "code",
   "execution_count": null,
   "id": "41f66685-3420-40b2-82a2-f1f22bb4fd0b",
   "metadata": {},
   "outputs": [],
   "source": [
    "sc_brain_adata_qc_df = sc.pp.calculate_qc_metrics(brain_adata)"
   ]
  },
  {
   "cell_type": "code",
   "execution_count": 29,
   "id": "33163480-31e2-4f8d-bf2b-9ba564589942",
   "metadata": {},
   "outputs": [
    {
     "data": {
      "text/plain": [
       "CellID\n",
       "10X388_6:CGTCCATCAGCGTGCT    1331.0\n",
       "10X388_6:AAACGCTGTGAAAGTT    1322.0\n",
       "10X388_6:GTCATTTTCACCCATC    1754.0\n",
       "10X388_5:GCATCGGGTCGTAATC    4212.0\n",
       "10X388_6:GATGATCTCACCACAA    4718.0\n",
       "                              ...  \n",
       "10X388_6:CACTGAAAGATACAGT    5807.0\n",
       "10X393_4:GGCGTCATCACGGGCT    4221.0\n",
       "10X393_4:GGAGCAATCCCTCATG    6890.0\n",
       "10X388_6:AGGTTGTAGAGAACCC    3911.0\n",
       "10X388_5:GATCGTACATATGCGT    6233.0\n",
       "Name: total_genes, Length: 67533, dtype: float64"
      ]
     },
     "execution_count": 29,
     "metadata": {},
     "output_type": "execute_result"
    }
   ],
   "source": [
    "brain_adata.obs['total_genes']"
   ]
  },
  {
   "cell_type": "code",
   "execution_count": null,
   "id": "22758bb0-c31e-494e-9145-a0cf70584d92",
   "metadata": {},
   "outputs": [],
   "source": [
    "brain_adata.var"
   ]
  },
  {
   "cell_type": "code",
   "execution_count": null,
   "id": "a8843a80-8691-4acb-8f9f-168bb1b1b036",
   "metadata": {},
   "outputs": [],
   "source": [
    "var_qc_df =sc_ts_all_qc_df[1]"
   ]
  },
  {
   "cell_type": "code",
   "execution_count": null,
   "id": "cc81e40f-2fbd-4067-b06c-3d64083df5b0",
   "metadata": {},
   "outputs": [],
   "source": [
    "obs_qc_df = sc_ts_all_qc_df[0]"
   ]
  },
  {
   "cell_type": "code",
   "execution_count": null,
   "id": "2f7aae3f-fb21-4b0b-b17e-c6189d601566",
   "metadata": {},
   "outputs": [],
   "source": [
    "obs_qc_df[\"free_annotation\"] = ts_adata.obs[\"free_annotation\"]"
   ]
  },
  {
   "cell_type": "code",
   "execution_count": null,
   "id": "d9d49f5e-38f9-4bc4-a1b4-7026d0d8c22a",
   "metadata": {},
   "outputs": [],
   "source": [
    "obs_qc_df.to_csv(\"../ts_all_obs_qc.csv\")"
   ]
  },
  {
   "cell_type": "code",
   "execution_count": null,
   "id": "0db2b68b-04d9-423a-8dae-41734bfd2e6a",
   "metadata": {},
   "outputs": [],
   "source": [
    "var_qc_df[\"gene_id\"] = ts_adata.var['feature_name']"
   ]
  },
  {
   "cell_type": "code",
   "execution_count": null,
   "id": "55856e49-05e2-4e04-b3dd-9212b0c2f7c5",
   "metadata": {},
   "outputs": [],
   "source": [
    "var_qc_df[\"highly_variable\"] = ts_adata.var[\"highly_variable\"]"
   ]
  },
  {
   "cell_type": "code",
   "execution_count": null,
   "id": "e340013c-36d8-4d7f-b06f-256292c32059",
   "metadata": {},
   "outputs": [],
   "source": [
    "var_qc_df.to_csv(\"../ts_all_var_qc.csv\")"
   ]
  },
  {
   "cell_type": "code",
   "execution_count": null,
   "id": "c3666e41-2cd4-4ebc-a972-2766d278acda",
   "metadata": {},
   "outputs": [],
   "source": [
    "n_genes_df = ts_adata.obs[['n_genes', 'cell_type']]"
   ]
  },
  {
   "cell_type": "code",
   "execution_count": null,
   "id": "197a5634-0bd6-4db9-ab37-59c6c90125ba",
   "metadata": {},
   "outputs": [],
   "source": [
    "total_genes_by_cell_type = n_genes_df.groupby('cell_type').mean().T.sort_values('n_genes', axis=1, ascending=False)"
   ]
  },
  {
   "cell_type": "code",
   "execution_count": null,
   "id": "b4c14232-77a5-4635-8225-0b63184f3bf4",
   "metadata": {},
   "outputs": [],
   "source": [
    "total_genes_by_cell_type.to_csv(\"../ts_all_tot_genes_by_cell_type.csv\")"
   ]
  },
  {
   "cell_type": "code",
   "execution_count": null,
   "id": "ed82a80e-e672-4105-8491-cffe52f4863d",
   "metadata": {},
   "outputs": [],
   "source": [
    "total_genes_by_cell_type"
   ]
  }
 ],
 "metadata": {
  "kernelspec": {
   "display_name": "Python 3 (ipykernel)",
   "language": "python",
   "name": "python3"
  },
  "language_info": {
   "codemirror_mode": {
    "name": "ipython",
    "version": 3
   },
   "file_extension": ".py",
   "mimetype": "text/x-python",
   "name": "python",
   "nbconvert_exporter": "python",
   "pygments_lexer": "ipython3",
   "version": "3.10.12"
  }
 },
 "nbformat": 4,
 "nbformat_minor": 5
}
